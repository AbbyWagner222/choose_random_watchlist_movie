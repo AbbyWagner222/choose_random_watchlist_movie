{
 "cells": [
  {
   "cell_type": "code",
   "execution_count": 8,
   "id": "1bf4cca3-3a15-4097-9cf4-0d52b28bc311",
   "metadata": {},
   "outputs": [
    {
     "data": {
      "text/plain": [
       "'La Dolce Vita'"
      ]
     },
     "execution_count": 8,
     "metadata": {},
     "output_type": "execute_result"
    }
   ],
   "source": [
    "import pandas as pd\n",
    "import random\n",
    "\n",
    "#create df of watchlist\n",
    "watchlist_df = pd.read_csv('Downloads/watchlist_jun5.csv')\n",
    "\n",
    "\n",
    "def choose_random_watchlist_movie(df):\n",
    "    #chooses random movie from df of watchlist\n",
    "    movie_choice = str(random.choice(df['Name']))\n",
    "    return movie_choice\n",
    "\n",
    "\n",
    "\n",
    "choose_random_watchlist_movie(watchlist_df)\n",
    "    "
   ]
  },
  {
   "cell_type": "code",
   "execution_count": null,
   "id": "bb9b7e68-331d-489f-8eee-ce2e36fca89b",
   "metadata": {},
   "outputs": [],
   "source": []
  }
 ],
 "metadata": {
  "kernelspec": {
   "display_name": "Python 3 (ipykernel)",
   "language": "python",
   "name": "python3"
  },
  "language_info": {
   "codemirror_mode": {
    "name": "ipython",
    "version": 3
   },
   "file_extension": ".py",
   "mimetype": "text/x-python",
   "name": "python",
   "nbconvert_exporter": "python",
   "pygments_lexer": "ipython3",
   "version": "3.12.4"
  }
 },
 "nbformat": 4,
 "nbformat_minor": 5
}
